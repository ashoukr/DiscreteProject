{
 "cells": [
  {
   "cell_type": "markdown",
   "metadata": {},
   "source": [
    "## 1. Implement Euclidean Algorithm for calculating greatest common divisor\n",
    "#### First write and test a function that calculates the greatest common divisor of two non- negative integers, as follows:\n",
    "* /* precondition: a>=b>=0 */\n",
    "* /* postcondition: return d=gcd(a,b) */\n",
    "* int EuclidAlgGCD (int a, int b);\n",
    "\n",
    "#### Then implement the extended Euclidean Algorithm to find not only the greatest common divisor of two integers, but also find the integer coefficients that expresses the gcd in terms of the integers, as illustrated below:\n",
    "* /* precondition: a>=b>=0 */\n",
    "* /* postcondition: return d=gcd(a,b), s and t are set so that d=sa+tb */ \n",
    "* int ExtendedEuclidAlgGCD (int a, int b, int & s, int & t);"
   ]
  },
  {
   "cell_type": "code",
   "execution_count": null,
   "metadata": {},
   "outputs": [],
   "source": [
    "def EuclidAlgGCD(a, b):\n",
    "\n",
    "    return d\n",
    "\n",
    "def ExtendedEuclidAlgGCD(a, b, s, t): ## set s and t inside function.\n",
    "    \n",
    "    return d"
   ]
  },
  {
   "cell_type": "markdown",
   "metadata": {},
   "source": [
    "## 2. Modular arithmetic\n",
    "#### Write a function that returns the result of any integer modulo of n (i.e., reduce the integer modulo n). Note that the C++ operator % can be used, but it returns a negative value, for example, -1 % 3 yields -1, so we need to do something adjustment (recall that -1 mod 3 = 2 because -1= (-1)×3+2). Therefore, we will use the mod() function from this step to implement the later encode() and decode() functions.\n",
    "* /* precondition: n is greater than 1,a can be negative \n",
    "* postcondition: return a mod n (as defined in class) a mod n = r if and only if a = nk+r, 0 =< r < n (note that r needs to be non-negative).\n",
    "*/\n",
    "* int mod (int a, int n);"
   ]
  },
  {
   "cell_type": "code",
   "execution_count": null,
   "metadata": {},
   "outputs": [],
   "source": [
    "def Mod(a, n):\n",
    "    return d\n",
    "    "
   ]
  },
  {
   "cell_type": "markdown",
   "metadata": {},
   "source": [
    "## 3. Find Relatively Prime\n",
    "#### Write a function to return a number that is relatively prime with the given number.\n",
    "* /* return an integer that is relatively prime with n, and greater than 1 i.e., the gcd of the returned int and n is 1\n",
    "    * Note: Although gcd(n,n-1)=1, we don't want to return n-1*/\n",
    "    \n",
    "* int RelativelyPrime (int n)"
   ]
  },
  {
   "cell_type": "code",
   "execution_count": null,
   "metadata": {},
   "outputs": [],
   "source": [
    "def RelativelyPrime(n):\n",
    "    return d"
   ]
  },
  {
   "cell_type": "markdown",
   "metadata": {},
   "source": [
    "## 4. Find Inverse\n",
    "#### Then implement the following function, which returns the inverse modulo, and test it. Note that you need to check whether a and n are relative prime before calling this function. Recall that a and n are relatively prime means that gcd(a,n)=1, i.e., their greatest common divisor is 1. Also recall that the extended Euclidean Algorithm can find the integer s and t for a and n such that as+nt=gcd(a,n), where s is the inverse of a modulo n.\n",
    "* /* n>1, a is nonnegative */\n",
    "* /* a<=n */\n",
    "* /* a and n are relative prime to each other */\n",
    "* /* return s such that a*s mod n is 1 */\n",
    "\n",
    "`int inverse (int a, int n)\n",
    "{\n",
    "    int s, t;\n",
    "    int d = ExtednedEuclidAlgGCD (n, a, s, t);\n",
    "if (d==1) {\n",
    "return (mod (t, n)); // t might be negative, use mod() to reduce to // an integer between 0 and n-1\n",
    "} else {\n",
    "        cout <<\"a and n are not relatively prime!\\n\";\n",
    "    }\n",
    "}`"
   ]
  },
  {
   "cell_type": "code",
   "execution_count": null,
   "metadata": {},
   "outputs": [],
   "source": [
    "def inverse(a, n):\n",
    "    return d"
   ]
  },
  {
   "cell_type": "markdown",
   "metadata": {},
   "source": [
    "## 5. Practice with RSA algorithm\n",
    "#### 1. Picktwoprimenumbersp,q,forexample,\n",
    "* const int P=23;\n",
    "* const int Q=17;\n",
    "* int PQ=P*Q;\n",
    "\n",
    "#### 2. Find a e that is relatively prime with (p-1)(q-1) Call RelativelyPrime ()\n",
    "\n",
    "#### 3. Calculatetheinversemodulo(p-1)(q-1)ofetobeyourd Use inverse ()\n",
    "\n",
    "#### 4. WriteafunctionEncodeasfollows:\n",
    "* // Return M^e mod PQ\n",
    "* int Encode (int M, int e, int PQ);\n",
    "\n",
    "#### 5. WriteafunctionDecodeasfollows:\n",
    "* //Return C^d mod PQ\n",
    "* int Decode (int C, int d, int PQ);\n",
    "\n",
    "#### 6. Verify that RSA algorithm works, i.e.,\n",
    "* intM;\n",
    "* /* M is an integer that is smaller than PQ */\n",
    "* cout <<\"Enter an integer that is smaller than\"<< PQ;\n",
    "* cin <<M; •\n",
    "* C=Encode (M, e, PQ);\n",
    "* M1=Decode (C, d, PQ);\n",
    "* assert (M==M1); //Note: include assert.h header file to use this //macro/function."
   ]
  },
  {
   "cell_type": "code",
   "execution_count": null,
   "metadata": {},
   "outputs": [],
   "source": []
  },
  {
   "cell_type": "code",
   "execution_count": null,
   "metadata": {},
   "outputs": [],
   "source": []
  }
 ],
 "metadata": {
  "kernelspec": {
   "display_name": "Python 3",
   "language": "python",
   "name": "python3"
  },
  "language_info": {
   "codemirror_mode": {
    "name": "ipython",
    "version": 3
   },
   "file_extension": ".py",
   "mimetype": "text/x-python",
   "name": "python",
   "nbconvert_exporter": "python",
   "pygments_lexer": "ipython3",
   "version": "3.8.2"
  }
 },
 "nbformat": 4,
 "nbformat_minor": 4
}
